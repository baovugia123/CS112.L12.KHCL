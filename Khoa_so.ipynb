{
  "nbformat": 4,
  "nbformat_minor": 0,
  "metadata": {
    "colab": {
      "name": "Khoa_so.ipynb",
      "provenance": [],
      "collapsed_sections": []
    },
    "kernelspec": {
      "name": "python3",
      "display_name": "Python 3"
    }
  },
  "cells": [
    {
      "cell_type": "markdown",
      "metadata": {
        "id": "-SLPfhqqjqmY"
      },
      "source": [
        "# **Đề bài:**\n",
        "\n",
        "**KHÓA SỐ**\n",
        "\n",
        "Để tăng độ an toàn chống hiện tượng cướp ngân hàng ngày càng phổ biến người ta dùng khóa số với mã mở khóa đơn giản nhưng rất hiệu quả. Trên cửa ra vào hiển thị một xâu khá dài các ký tự số. Các chữ số có thể di chuyển đổi chổ cho nhau hoặc bị xóa. Muốn mở khóa người ta phải di chuyển các chữ số và trong trường hợp cần thiết – xóa vài chữ số để nhận được *xâu lớn nhất* thỏa mãn điều kiện đã cài đặt. Điều kiện này được thay đổi thường xuyên. Hôm nay điều kiện đó là “Số nhận được phải chia hết cho 3”. Số nhận được có thể bắt đầu bằng các chữ số 0. Xâu “000” sẽ lớn hơn xâu “00”.\n",
        "\n",
        "Hãy xác định khóa mở cửa.\n",
        "\n",
        "***Dữ liệu:*** Vào từ thiết bị nhập chuẩn gồm một xâu ký tự số có độ dài lớn hơn 2 và không vượt quá 105.\n",
        "\n",
        "***Kết quả:*** Đưa ra thiết bị xuất chuẩn xâu khóa mở cửa.\n",
        "\n",
        "***Ví dụ:***\n",
        "<table style=\"border-collapse:collapse\" cellspacing=\"0\" cellpadding=\"5\" bordercolor=\"#ccc\" border=\"1\">\n",
        "\t<tbody>\n",
        "\t\t<tr>\n",
        "\t\t\t<td style=\"background-color:#ffffcc; width:108.0pt\">\n",
        "\t\t\t<p style=\"text-align:center\"><strong><tt>INPUT</tt></strong></p>\n",
        "\t\t\t</td>\n",
        "\t\t\t<td style=\"vertical-align:top; width:40.5pt\">\n",
        "\t\t\t<p style=\"text-align:center\">&nbsp;</p>\n",
        "\t\t\t</td>\n",
        "\t\t\t<td style=\"background-color:#ffffcc; width:121.5pt\">\n",
        "\t\t\t<p style=\"text-align:center\"><strong><tt>OUTPUT</tt></strong></p>\n",
        "\t\t\t</td>\n",
        "\t\t</tr>\n",
        "\t\t<tr>\n",
        "\t\t\t<td style=\"background-color:#ffffcc; height:16.6pt; width:108.0pt\">\n",
        "\t\t\t<p><tt><strong><span style=\"color:black\"> 105 </span></strong></tt></p>\n",
        "\t\t\t</td>\n",
        "\t\t\t<td style=\"height:16.6pt; vertical-align:top; width:40.5pt\">\n",
        "\t\t\t<p>&nbsp;</p>\n",
        "\t\t\t</td>\n",
        "\t\t\t<td style=\"background-color:#ffffcc; height:16.6pt; width:121.5pt\">\n",
        "\t\t\t<p><tt><strong>510</strong></tt></p>\n",
        "\t\t\t</td>\n",
        "\t\t</tr>\n",
        "\t</tbody>\n",
        "</table>\n",
        "\n"
      ]
    },
    {
      "cell_type": "markdown",
      "metadata": {
        "id": "NP0ROuvrjxP8"
      },
      "source": [
        "**Abstraction:**\n",
        "- Tìm chuỗi số con lớn nhất và chia hết cho 3.\n",
        "- Có 3 trường hợp có thể xảy ra:\n",
        "    - TH1: Tổng các số trong chuỗi chia hết cho 3\n",
        "\t- TH2: Tổng các số trong chuỗi không chia hết cho 3 và số dư có tồn tại trong chuỗi\n",
        "\t- TH3: Tổng các số trong chuỗi không chia hết cho 3 và số dư không tồn tại trong chuỗi\n",
        "\n",
        "\n",
        "\n"
      ]
    },
    {
      "cell_type": "markdown",
      "metadata": {
        "id": "7GbDU575kZ_x"
      },
      "source": [
        "**Pattern Recognition:**\n",
        "- Lập trình năng động"
      ]
    },
    {
      "cell_type": "markdown",
      "metadata": {
        "id": "rcXBVI_aj1Za"
      },
      "source": [
        "**Algorithm designed:**\n",
        "  - TH1:\n",
        "    * *Input:* 105\n",
        "    * *Output:* 501 \n",
        "        - Ta cộng 3 số 1 + 0 + 5 = 6 chia hết cho 3.\n",
        "\t    - Sau đó sắp xếp chuỗi giảm dần.\n",
        "  - TH2:\n",
        "    * *Input:* 1052\n",
        "    * *Output:* 501 \n",
        "\t    - Ta cộng 4 số 1 + 0 + 5 + 2 = 8 chia 3 dư 2, 2 có trong chuỗi nên bỏ 2.\n",
        "\t    - Sau đó sắp xếp chuỗi giảm dần.\n",
        "  - TH3: \n",
        "    * *Input:* 1052\n",
        "    * *Output:* 501 \n",
        "\t    - Ta cộng 5 sô 1 + 0 + 5 + 1 + 1 = 8 chia 3 dư 2, 2 không có trong chuỗi nên ta phải bỏ 2 số 1.\n",
        "\t    - Sau đó sắp xếp chuỗi giảm dần.\n",
        "\t\n",
        "    * *Input:* 1052\n",
        "    * *Output:* 501\n",
        "     - Ta cộng 5 số 1 + 0 + 5 + 4 + 6 = 16 chia 3 dư 1, 1 không có trong chuỗi nên ta bỏ số 4(Do 4%3 = 1=> số dư của chuỗi ban đầu).\n",
        "\t - Sau đó sắp xếp chuỗi giảm dần\t\n",
        "\n",
        "*Mã giả: *\n",
        "```\n",
        "# if int_x % 3 == 0\n",
        "\t   sort \n",
        "\t   print x\n",
        "           exit\n",
        "\ts <- int_x % 3\n",
        "\t\n",
        " \t1. def Case1(a,d)\n",
        "\t   i = -1\n",
        "\t   if str(d) in a then\n",
        "\t\ti = a.index(str(d))\n",
        "\t   elif str(d+3) in a then\n",
        "\t\ti = a.index(str(d+3))\n",
        "\t   elif str(d+6) in a then\n",
        "\t\ti = a.index(str(d+6))\n",
        "\t\t\n",
        "\t2. def Case2(a,d)\n",
        "\t   i = Case1(a,d)\n",
        "\t   j = Case1(a[i+1:],d) + i + 1\n",
        "\tinp1 = Case1(a,s)\n",
        "\n",
        "\tif inp1 == -1 then\n",
        "\t   i,j = Case2(a,(s*2)%3)\n",
        "\t   if i!= -1 and j!= -1 then\n",
        "\t\ta.remove(a[i])\n",
        "       \t\ta.remove(a[j-1])\n",
        "       \t\ta.reverse()\n",
        "       \t\tif len(a)==1 then\n",
        "         \t\tprint join(a[0])\n",
        "       \t\telse then\n",
        "         \t\tprint join(a)\n",
        "    \t\texit\n",
        "\t\n",
        "\ta.remove(a[inp1])\n",
        "\ta.reverse()    \n",
        "\tif a != [] then\n",
        "    \t\tprint join(a)\n",
        "   \t\texit\n",
        "```"
      ]
    },
    {
      "cell_type": "code",
      "metadata": {
        "id": "a_SCsCwNj_Xh",
        "outputId": "3da45026-0b44-4744-c431-f076df0f76fd",
        "colab": {
          "base_uri": "https://localhost:8080/",
          "height": 70
        }
      },
      "source": [
        "x = input()\n",
        "a = list(x)\n",
        "a.sort()\n",
        "int_x = int(x)\n",
        "\n",
        "if int_x % 3 == 0:\n",
        "    sorted_numbers = sorted(x, reverse=True)\n",
        "    x = ''.join(sorted_numbers)\n",
        "    print(x)\n",
        "    exit()\n",
        "    \n",
        "s = int_x % 3\n",
        "\n",
        "def Case1(a, d):\n",
        "    i = -1\n",
        "    if str(d) in a:\n",
        "        i = a.index(str(d))\n",
        "    elif str(d + 3) in a:\n",
        "        i = a.index(str(d+3))\n",
        "    elif str(d + 6) in a:\n",
        "        i = a.index(str(d+6))\n",
        "    return i\n",
        "\n",
        "def Case2(a, d):\n",
        "    i = Case1(a, d)\n",
        "    j = Case1(a[i+1:],d) +i+1\n",
        "    return i, j\n",
        "inp1 = Case1(a, s)\n",
        "\n",
        "if (inp1 == -1):\n",
        "    i,j = Case2(a, (s*2)%3)\n",
        "    if i!= -1 and j!= -1:\n",
        "       a.remove(a[i])\n",
        "       a.remove(a[j-1])\n",
        "       a.reverse()\n",
        "       if (len(a)==1):\n",
        "         print(str(''.join(a[0])))\n",
        "       else:\n",
        "         print(''.join(a))\n",
        "    exit()\n",
        "    \n",
        "a.remove(a[inp1])\n",
        "a.reverse()    \n",
        "if a != []:\n",
        "    print(''.join(a))\n",
        "    exit()"
      ],
      "execution_count": 1,
      "outputs": [
        {
          "output_type": "stream",
          "text": [
            "15012\n",
            "52110\n",
            "5211\n"
          ],
          "name": "stdout"
        }
      ]
    }
  ]
}