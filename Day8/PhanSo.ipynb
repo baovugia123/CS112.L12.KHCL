{
  "nbformat": 4,
  "nbformat_minor": 0,
  "metadata": {
    "colab": {
      "name": "PhanSo.ipynb",
      "provenance": [],
      "collapsed_sections": [],
      "include_colab_link": true
    },
    "kernelspec": {
      "name": "python3",
      "display_name": "Python 3"
    }
  },
  "cells": [
    {
      "cell_type": "markdown",
      "metadata": {
        "id": "view-in-github",
        "colab_type": "text"
      },
      "source": [
        "<a href=\"https://colab.research.google.com/github/baovugia123/CS112.L12.KHCL/blob/master/Day8/PhanSo.ipynb\" target=\"_parent\"><img src=\"https://colab.research.google.com/assets/colab-badge.svg\" alt=\"Open In Colab\"/></a>"
      ]
    },
    {
      "cell_type": "markdown",
      "metadata": {
        "id": "nmQ6VDt7Neul"
      },
      "source": [
        "# **Đề bài:**\n",
        "\n",
        "**PHÂN SỐ**\n",
        "\n",
        "Cho 2 phân số đúng và tối giản a/b, c/d. Mỗi phép biến đổi là tăng ***a*** và ***b*** lên 1, sau đó giản ước phân số nhận được.\n",
        "\n",
        "Hãy xác định sau bao nhiêu bước biến đổi từ phân số thứ nhất ban đầu nhận được phân số thứ 2 đã cho.\n",
        "\n",
        "***Dữ liệu:*** Vào từ thiết bị nhập chuẩn gồm 4 dòng, mỗi dòng chứa 1 số nguyên ***a***, ***b***, ***c***, ***d***; 0 < ***a*** < ***b*** ≤10^5, 0 < ***c*** < ***d*** ≤ 105, ***a*** và ***b*** nguyên tố cùng nhau, ***c*** và ***d*** nguyên tố cùng nhau a/b ≠ c/d. \n",
        "\n",
        "***Kết quả:*** Đưa ra thiết bị xuất chuẩn số 0 nếu không có cách biến đổi hoặc một số nguyên – số lượng phép biến đổi.\n",
        "\n",
        "***Ví dụ:***\n",
        "<table style=\"border-collapse:collapse\" cellspacing=\"0\" cellpadding=\"5\" bordercolor=\"#ccc\" border=\"1\">\n",
        "\t<tbody>\n",
        "\t\t<tr>\n",
        "\t\t\t<td style=\"background-color:#ffffcc; width:108.0pt\">\n",
        "\t\t\t<p style=\"text-align:center\"><strong><tt>INPUT</tt></strong></p>\n",
        "\t\t\t</td>\n",
        "\t\t\t<td style=\"vertical-align:top; width:40.5pt\">\n",
        "\t\t\t<p style=\"text-align:center\">&nbsp;</p>\n",
        "\t\t\t</td>\n",
        "\t\t\t<td style=\"background-color:#ffffcc; width:121.5pt\">\n",
        "\t\t\t<p style=\"text-align:center\"><strong><tt>OUTPUT</tt></strong></p>\n",
        "\t\t\t</td>\n",
        "\t\t</tr>\n",
        "\t\t<tr>\n",
        "\t\t\t<td style=\"background-color:#ffffcc; height:16.6pt; width:108.0pt\">\n",
        "\t\t\t<p><tt><strong><span style=\"color:black\">1 6 2 3 </span></strong></tt></p>\n",
        "\t\t\t</td>\n",
        "\t\t\t<td style=\"height:16.6pt; vertical-align:top; width:40.5pt\">\n",
        "\t\t\t<p>&nbsp;</p>\n",
        "\t\t\t</td>\n",
        "\t\t\t<td style=\"background-color:#ffffcc; height:16.6pt; width:121.5pt\">\n",
        "\t\t\t<p><tt><strong>5</strong></tt></p>\n",
        "\t\t\t</td>\n",
        "\t\t</tr>\n",
        "\t</tbody>\n",
        "</table>"
      ]
    },
    {
      "cell_type": "markdown",
      "metadata": {
        "id": "WRa4vb6ENgMQ"
      },
      "source": [
        "**Abstraction:**\n",
        "- Biến đổi phân số ban đầu thành phân sô thứ 2 bằng cách tăng tử và mẫu lên 1 đơn vị rồi rút gọn."
      ]
    },
    {
      "cell_type": "markdown",
      "metadata": {
        "id": "UfJ44yq-Ne5F"
      },
      "source": [
        "**Pattern Recognition:**\n",
        "- Lập trình năng động"
      ]
    },
    {
      "cell_type": "markdown",
      "metadata": {
        "id": "7ZU8McuF-uz5"
      },
      "source": [
        "**Alogorithm designed:**\n",
        "* *Input:* Nhập vào 4 số nguyên a,b,c,d tương ứng với 2 phân số a/b và c/d.\n",
        "\n",
        "* *Output:* Số lần biến đổi từ phân số a/b thành c/d.\n",
        "\n",
        "* *Mã giả:*\n",
        "```\n",
        "Nhập a, b, c, d\n",
        "dem = 0\n",
        "while a*d < b*c :\n",
        "\ta = a + 1\n",
        "\tb = b + 1\n",
        "\tdem = dem + 1\n",
        "\treduceFraction = gcd(a, b) // hàm tìm ước chung\n",
        "\ta = a // reduceFraction\n",
        "\tb = b // reduceFraction\n",
        "if a*d > b*c :\n",
        "\tprint 0\n",
        "else:\n",
        "\tprint dem\n",
        "```"
      ]
    },
    {
      "cell_type": "code",
      "metadata": {
        "id": "E7Oq0MRZNg0i",
        "colab": {
          "base_uri": "https://localhost:8080/"
        },
        "outputId": "97d4d06d-b251-47e5-bb9b-971c5b9fe4a1"
      },
      "source": [
        "from math import gcd \n",
        "\n",
        "a = int(input())\n",
        "b = int(input())\n",
        "c = int(input())\n",
        "d = int(input())\n",
        "\n",
        "dem = 0\n",
        "\n",
        "\n",
        "while (a*d < b*c)  :\n",
        "    a = a + 1\n",
        "    b = b + 1 \n",
        "    dem = dem + 1\n",
        "    \n",
        "    reduceFraction = gcd(a, b) \n",
        "    a = a // reduceFraction \n",
        "    b = b // reduceFraction\n",
        "    \n",
        "if (a*d > b*c):\n",
        "    print(0)\n",
        "else:\n",
        "    print(dem)"
      ],
      "execution_count": null,
      "outputs": [
        {
          "output_type": "stream",
          "text": [
            "1\n",
            "6\n",
            "2\n",
            "3\n",
            "5\n"
          ],
          "name": "stdout"
        }
      ]
    }
  ]
}