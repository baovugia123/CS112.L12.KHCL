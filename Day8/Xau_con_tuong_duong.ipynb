{
  "nbformat": 4,
  "nbformat_minor": 0,
  "metadata": {
    "colab": {
      "name": "Xau-con-tuong-duong.ipynb",
      "provenance": [],
      "authorship_tag": "ABX9TyOZuGqE58QLZC/5AvEFYA5Q",
      "include_colab_link": true
    },
    "kernelspec": {
      "name": "python3",
      "display_name": "Python 3"
    }
  },
  "cells": [
    {
      "cell_type": "markdown",
      "metadata": {
        "id": "view-in-github",
        "colab_type": "text"
      },
      "source": [
        "<a href=\"https://colab.research.google.com/github/baovugia123/CS112.L12.KHCL/blob/master/Day8/Xau_con_tuong_duong.ipynb\" target=\"_parent\"><img src=\"https://colab.research.google.com/assets/colab-badge.svg\" alt=\"Open In Colab\"/></a>"
      ]
    },
    {
      "cell_type": "markdown",
      "metadata": {
        "id": "69pC1yDLFCuV"
      },
      "source": [
        "# **Đề bài:**\n",
        "\n",
        "**XÂU CON TƯƠNG ĐƯƠNG**\n",
        "\n",
        "Cho xâu ***s*** chỉ chứa các ký tự la tinh thường độ dài ***n*** không quá 10^5. Ký hiệu ***s[i..j]*** là xâu con các ký tự liên tiếp nhau của ***s*** từ vị trí ***i*** đến vị trí ***j***. Hai xâu con ***x = s[a..b]*** và ***y = s[c..d]*** được gọi là cùng một lớp tương đương nếu có cách đổi chỗ các ký tự trong một xâu để nhận được xâu kia. Các vị trí được đánh số từ 1 trở đi.\n",
        "\n",
        "Ví dụ với ***s*** = “abcbacaac”, ***s[1..3]*** tương đương với ***s[4..6]***, còn ***s[1..3]*** không tương đương với ***s[5..7]***.\n",
        "\n",
        "Cho ***q*** truy vấn, mỗi truy vấn là 4 số nguyên ***a, b, c, d*** xác định các xâu con ***x*** và ***y***. Với mỗi truy vấn hãy xác định hai xâu con này có cùng một lớp tương đương hay không và đưa ra câu trả lời tương ứng *“YES”* hoặc *“NO”*.\n",
        "\n",
        "***Dữ liệu:*** Vào từ thiết bị nhập chuẩn:\n",
        "\n",
        "* Dòng đầu tiên chứa xâu ***s***,\n",
        "\n",
        "* Dòng thứ 2 chứa số nguyên ***q*** (1 ≤  ***q***  ≤ 10^5),\n",
        "\n",
        "* Mỗi dòng trong q dòng tiếp theo chứa 4 số nguyên ***a, b, c, d*** (1 ≤ ***a*** ≤ ***b*** ≤ ***n***, 1 ≤ ***c*** ≤ ***d*** ≤ ***n***).\n",
        "\n",
        "***Kết quả:*** Đưa ra thiết bị xuất chuẩn các câu trả lời xác định được cho mỗi truy vấn, mỗi câu trả lời trên một dòng.\n",
        "\n",
        "***Dữ liệu mẫu:***\n",
        "<p style=\"text-align:justify\"><em></em></p>\n",
        "\n",
        "|  Input | Output             |\n",
        "|---|--------------------|\n",
        "|abcbacaac<br>2<br>1 3 4 6<br>1 3 5 7 | YES<br>NO "
      ]
    },
    {
      "cell_type": "markdown",
      "metadata": {
        "id": "e5PBHZXWFC0k"
      },
      "source": [
        "**Abstraction:**\n",
        "- Cho chuỗi s và truy vấn q, với mỗi q đưa vào lần lượt 4 số nguyên `a`, `b`, `c` ,`d`.Kiểm tra xem 2 chuỗi con có cùng thuộc một lớp tương đương hay không\n"
      ]
    },
    {
      "cell_type": "markdown",
      "metadata": {
        "id": "-CsRE6FLFC6c"
      },
      "source": [
        "**Pattern Recognition:**\n",
        "- Kĩ thuật String hashing"
      ]
    },
    {
      "cell_type": "markdown",
      "metadata": {
        "id": "KJTPDuh5FC-l"
      },
      "source": [
        "**Algorithm designed:**\n",
        "* *Input:*\n",
        "    - Xâu ***s***,\n",
        "    - ***q*** là số nguyên (1 ≤  ***q***  ≤ 10^5),\n",
        "    - mỗi dòng ***q*** chứa ***a, b, c, d*** là 4 số nguyên (1 ≤ ***a*** ≤ ***b*** ≤ ***n***, 1 ≤ ***c*** ≤ ***d*** ≤ ***n***).\n",
        "\n",
        "* *Output:* `YES` nếu ***[a,b]*** == ***[c,d]*** , `NO` nếu ***[a,b]*** != ***[c,d]***.\n",
        "\n",
        "* *Mã giả:*\n",
        "```\n",
        "Khởi tạo:\n",
        "    Nhập chuỗi s, truy vấn q\n",
        "    sum_of_array = [0]\n",
        "\n",
        "    1.Lặp i từ 0 tới len(s):\n",
        "        sum_of_array[vị trí trước đó] + giá trị hash()\n",
        "    2.Tính tổng tiền tố: sum_of_array[end] - sum_of_array[start-1]\n",
        "    3.Lặp q\n",
        "    Nhập 4 số nguyên a,b,c,d\n",
        "        3.1 Kiểm tra [a,b] và [c,d] có bằng nhau không\n",
        "        3.2 In ra YES nếu bằng và ngược lại NO.\n",
        "``` \n",
        "*Độ phức tạp thời gian: T = O(n)"
      ]
    },
    {
      "cell_type": "code",
      "metadata": {
        "id": "C9DsEIAMWnjp"
      },
      "source": [
        "from sys import stdin, stdout\n",
        "\n",
        "s = stdin.readline().strip()\n",
        "q = int(input())\n",
        "\n",
        "sum_of_array = [0]\n",
        "\n",
        "for _ in s:\n",
        "    sum_of_array.append(sum_of_array[-1] + hash(_))\n",
        "    \n",
        "def check(start, end):\n",
        "    return sum_of_array[end] - sum_of_array[start-1]\n",
        "\n",
        "for _ in range(q):\n",
        "    a, b, c, d = map(int, stdin.readline().split())\n",
        "    if check(a,b) != check(c,d):\n",
        "        print(\"NO\")\n",
        "    else:\n",
        "        print(\"YES\")"
      ],
      "execution_count": null,
      "outputs": []
    }
  ]
}