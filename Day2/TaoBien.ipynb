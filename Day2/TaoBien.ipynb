{
  "nbformat": 4,
  "nbformat_minor": 0,
  "metadata": {
    "colab": {
      "name": "Untitled8.ipynb",
      "provenance": []
    },
    "kernelspec": {
      "name": "python3",
      "display_name": "Python 3"
    }
  },
  "cells": [
    {
      "cell_type": "markdown",
      "metadata": {
        "id": "ks-7mJ_TZAwS",
        "colab_type": "text"
      },
      "source": [
        "**Abstraction:**\n",
        "\n",
        "\n"
      ]
    },
    {
      "cell_type": "markdown",
      "metadata": {
        "id": "IlkR09knZkib",
        "colab_type": "text"
      },
      "source": [
        "\n",
        "Đây là dãy Fibonaci\n",
        "\n",
        "Ta thấy được số cần tìm sẽ ở vị trí lẻ, hay nói cách khác là ở vị trí 2k+1.\n",
        "Ta tính result: fib(2k+1)*n"
      ]
    },
    {
      "cell_type": "markdown",
      "metadata": {
        "id": "8_zvFkX9ZzJs",
        "colab_type": "text"
      },
      "source": [
        "*Giải thích *\n",
        "D0: 3 ct mức 1\n",
        "=> 3 ct\n",
        "D1: 3 ct mức 1 ( số ct D0 sinh ra = 3)\n",
        "3 ct mức 2\n",
        "=> 6 ct\n",
        "D2: 3 ct mức 1 (\n",
        "6 ct mức 1 số ct D1 sinh ra = 9)\n",
        "3 ct mức 2\n",
        "3 ct mức 3\n",
        "=> 15 ct\n",
        "D3: 9 ct mức 1 (\n",
        "6 ct mức 1 số ct D2 sinh ra = 24\n",
        "9 ct mức 1 )\n",
        "9 ct mức 2\n",
        "3 ct mức 3\n",
        "3 ct mức 4\n",
        "=> 39 ct\n",
        "Ta để ý số cá thể ngày sau sẽ bằng ngày trước cộng cho số cá thể được sinh ra: 3,3,6,9,15,24,39,..\n",
        "Ta thấy được số cần tìm sẽ ở vị trí lẻ, hay nói cách khác là ở vị trí 2k+1.\n",
        "Ta tính result: fib(2k+1)*n"
      ]
    },
    {
      "cell_type": "markdown",
      "metadata": {
        "id": "NyA0Dp0GZSN-",
        "colab_type": "text"
      },
      "source": [
        "**Pattern Recognition:**"
      ]
    },
    {
      "cell_type": "markdown",
      "metadata": {
        "id": "cVbMoRWbZhJ4",
        "colab_type": "text"
      },
      "source": [
        "Tính dãy Fibonacci"
      ]
    },
    {
      "cell_type": "markdown",
      "metadata": {
        "id": "fpCr_OK4Z_JT",
        "colab_type": "text"
      },
      "source": [
        "**Algorithm designed:**"
      ]
    },
    {
      "cell_type": "markdown",
      "metadata": {
        "id": "u_Cg-deeaEFc",
        "colab_type": "text"
      },
      "source": [
        "*Input: n là số cá thể mức 1\n",
        "k là số ngày\n",
        "*Output : số lượng cá thể sau k ngày\n",
        "Mã giả:\n",
        "tạo hàm fib\n",
        "a=0\n",
        "b=0\n",
        "Chạy vòng lặp i -> n\n",
        "a = b\n",
        "b = a+b\n",
        "return a\n",
        "Kết quả sẽ là fib((2k+1)*n)\n",
        "*Độ phức tạp thuật toán : T = O(n)"
      ]
    },
    {
      "cell_type": "code",
      "metadata": {
        "id": "1IVe0YUOaIXA",
        "colab_type": "code",
        "colab": {
          "base_uri": "https://localhost:8080/",
          "height": 52
        },
        "outputId": "0a60d06c-b06b-4de3-ee08-a594456385c6"
      },
      "source": [
        "mod = 10**9+7\n",
        "def fib(n):\n",
        "    a,b = 0,1\n",
        "    for i in range(n):\n",
        "        a,b = b, a+b\n",
        "    return a\n",
        "n, k = map(int, input().split())\n",
        "fibonaci = fib(2*k + 1)\n",
        "result = (n*fibonaci) % mod\n",
        "print(result)"
      ],
      "execution_count": 2,
      "outputs": [
        {
          "output_type": "stream",
          "text": [
            "3 2\n",
            "15\n"
          ],
          "name": "stdout"
        }
      ]
    }
  ]
}
