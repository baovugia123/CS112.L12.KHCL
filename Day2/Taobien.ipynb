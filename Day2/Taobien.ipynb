{
  "nbformat": 4,
  "nbformat_minor": 0,
  "metadata": {
    "colab": {
      "name": "Taobien.ipynb",
      "provenance": []
    },
    "kernelspec": {
      "name": "python3",
      "display_name": "Python 3"
    }
  },
  "cells": [
    {
      "cell_type": "markdown",
      "metadata": {
        "id": "zH6ZWsRUlxdq"
      },
      "source": [
        "# **Đề bài:**\n",
        "\n",
        "**TẢO BIỂN**\n",
        "\n",
        "Tảo biển sinh sản rất nhanh khi có môi trường thuận lợi với chúng và có những loài còn tiết ra môi trường những chất độc hại.\n",
        "\n",
        "Một loại tảo nâu trong môi trường nước bị ô nhiễm nặng sinh sản theo quy luật sau:\n",
        "\n",
        "Ngày đầu tiên (ngày 0) có n cá thể ở mức 1,\n",
        "Ở mỗi ngày tiếp theo, mỗi cá thể mức i sinh ra i cá thể mức 1, các cá thể mới sinh sẽ sinh sôi, phát triển từ ngày hôm sau.\n",
        "Bản thân các cá thể mức i phát triển thành mức i+1 và chu kỳ phát triển trong ngày chấm dứt.\n",
        "Hãy xác định sau k ngày trong nước biển có bao nhiêu cá thể.\n",
        "\n",
        "***Dữ liệu:*** Vào từ thiết bị nhập chuẩn:\n",
        "*  Dòng đầu tiên chứa số nguyên n (1 ≤ n ≤ 1000),\n",
        "*  Dòng thứ 2 chứa số nguyên k (1 ≤ k ≤ 10^17).\n",
        "\n",
        "***Kết quả:*** Đưa ra thiết bị xuất chuẩn một số nguyên – số lượng cá thể  tảo theo mô đun 10^9+7.\n",
        "\n",
        "***Ví dụ:***\n",
        "<table style=\"border-collapse:collapse\" cellspacing=\"0\" cellpadding=\"5\" bordercolor=\"#ccc\" border=\"1\">\n",
        "\t<tbody>\n",
        "\t\t<tr>\n",
        "\t\t\t<td style=\"background-color:#ffffcc; width:108.0pt\">\n",
        "\t\t\t<p style=\"text-align:center\"><strong><tt>INPUT</tt></strong></p>\n",
        "\t\t\t</td>\n",
        "\t\t\t<td style=\"vertical-align:top; width:40.5pt\">\n",
        "\t\t\t<p style=\"text-align:center\">&nbsp;</p>\n",
        "\t\t\t</td>\n",
        "\t\t\t<td style=\"background-color:#ffffcc; width:121.5pt\">\n",
        "\t\t\t<p style=\"text-align:center\"><strong><tt>OUTPUT</tt></strong></p>\n",
        "\t\t\t</td>\n",
        "\t\t</tr>\n",
        "\t\t<tr>\n",
        "\t\t\t<td style=\"background-color:#ffffcc; height:16.6pt; width:108.0pt\">\n",
        "\t\t\t<p><tt><strong><span style=\"color:black\"> 3 2 </span></strong></tt></p>\n",
        "\t\t\t</td>\n",
        "\t\t\t<td style=\"height:16.6pt; vertical-align:top; width:40.5pt\">\n",
        "\t\t\t<p>&nbsp;</p>\n",
        "\t\t\t</td>\n",
        "\t\t\t<td style=\"background-color:#ffffcc; height:16.6pt; width:121.5pt\">\n",
        "\t\t\t<p><tt><strong>15</strong></tt></p>\n",
        "\t\t\t</td>\n",
        "\t\t</tr>\n",
        "\t</tbody>\n",
        "</table>"
      ]
    },
    {
      "cell_type": "markdown",
      "metadata": {
        "id": "EuO3Bgu5nZbj"
      },
      "source": [
        "**Abstraction:**\n",
        "- Đây là dãy Fibonaci\n",
        "\n",
        "- Ta thấy được số cần tìm sẽ ở vị trí lẻ, hay nói cách khác là ở vị trí 2k+1. Ta tính result: fib(2k+1)*n\n",
        "\n",
        "- Giải thích \n",
        "    - D0: 3 ct mức 1 => 3 ct \n",
        "    - D1: 3 ct mức 1 ( số ct D0 sinh ra = 3) 3 ct mức 2 => 6 ct \n",
        "    - D2: 3 ct mức 1 ( 6 ct mức 1 số ct D1 sinh ra = 9) 3 ct mức 2 3 ct mức 3 => 15 ct \n",
        "    - D3: 9 ct mức 1 ( 6 ct mức 1 số ct D2 sinh ra = 24 9 ct mức 1 ) 9 ct mức 2 3 ct mức 3 3 ct mức 4 => 39 ct \n",
        "- Ta để ý số cá thể ngày sau sẽ bằng ngày trước cộng cho số cá thể được sinh ra: 3,3,6,9,15,24,39,.."
      ]
    },
    {
      "cell_type": "markdown",
      "metadata": {
        "id": "N58OGnyDnoJC"
      },
      "source": [
        "**Pattern Recognition:**\n",
        "- Tính dãy Fibonacci"
      ]
    },
    {
      "cell_type": "markdown",
      "metadata": {
        "id": "unFLH8OlnwCd"
      },
      "source": [
        "**Algorithm designed:**\n",
        "* *Input:*\n",
        "    - n là số cá thể mức 1, 1 ≤ n ≤ 1000,\n",
        "    - k là số ngày, 1 ≤ k ≤ 10^17.\n",
        "    - a, b là 2 số liên tiếp nhau, b là số sau bằng a + lên\n",
        "\n",
        "* *Output:* số lượng cá thể sau k ngày.\n",
        "* *Mã giả: *\n",
        "```\n",
        "tạo hàm fib \n",
        "a=0 \n",
        "b=0 \n",
        "Chạy vòng lặp i -> n a = b b = a+b \n",
        "return a \n",
        "Kết quả sẽ là fib((2k+1)n)\n",
        "```\n",
        "* Độ phức tạp thuật toán : T = O(n)"
      ]
    },
    {
      "cell_type": "code",
      "metadata": {
        "id": "eyR8z_yspsM2",
        "outputId": "d980e5c5-9e02-4945-afc4-79d3ddc5b1e8",
        "colab": {
          "base_uri": "https://localhost:8080/",
          "height": 52
        }
      },
      "source": [
        "mod = 10**9+7\n",
        "def fib(n):\n",
        "    a,b = 0,1\n",
        "    for i in range(n):\n",
        "        a,b = b, a+b\n",
        "    return a\n",
        "\n",
        "n, k = map(int, input().split())\n",
        "fibonaci = fib(2*k + 1)\n",
        "result = (n*fibonaci) % mod\n",
        "print(result)"
      ],
      "execution_count": 1,
      "outputs": [
        {
          "output_type": "stream",
          "text": [
            "3 2\n",
            "15\n"
          ],
          "name": "stdout"
        }
      ]
    }
  ]
}