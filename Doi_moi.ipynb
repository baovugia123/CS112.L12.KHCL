{
  "nbformat": 4,
  "nbformat_minor": 0,
  "metadata": {
    "colab": {
      "name": "Doi-moi.ipynb",
      "provenance": [],
      "collapsed_sections": [],
      "authorship_tag": "ABX9TyMcIjwJ8nfae7SrErNzvwrT",
      "include_colab_link": true
    },
    "kernelspec": {
      "name": "python3",
      "display_name": "Python 3"
    }
  },
  "cells": [
    {
      "cell_type": "markdown",
      "metadata": {
        "id": "view-in-github",
        "colab_type": "text"
      },
      "source": [
        "<a href=\"https://colab.research.google.com/github/baovugia123/CS112.L12.KHCL/blob/master/Doi_moi.ipynb\" target=\"_parent\"><img src=\"https://colab.research.google.com/assets/colab-badge.svg\" alt=\"Open In Colab\"/></a>"
      ]
    },
    {
      "cell_type": "markdown",
      "metadata": {
        "id": "0-J_IOuRc1sR"
      },
      "source": [
        "# **Đề bài:**\n",
        "\n",
        "**ĐỔI MỚI**\n",
        "\n",
        "Thành phố quyết định chặt hạ hết n cây xanh hiện có trong thành phố để trồng chỉ một loại cây mới. Nhiệm vụ được giao cho Công ty Cây xanh thành phố. Do hạn chế về thiết bị Công ty chỉ tổ chức được 2 đội đốn hạ cây. Đội I hạ được a cây mỗi ngày, nhưng cứ mối ngày thứ k thì phải nghỉ để bảo dưỡng kỹ thuật, tức là đội I sẽ nghỉ vào các ngày k, 2k, 3k, . . . Đội II hạ được b cây mỗi ngày, nhưng cứ mỗi ngày thứ m thì phải nghỉ để bảo dưỡng kỹ thuật, tức là đội II sẽ nghỉ vào các ngày m, 2m, 3m, . . . Ở ngày nghỉ, số cây chặt hạ của đội sẽ là 0. Cả hai đội bắt đầu công việc vào cùng một ngày và làm việc song song với nhau.\n",
        "\n",
        "Công việc trồng cây mới sẽ bắt đầu sau khi toàn bộ cây cũ đã bị đốn hạ.\n",
        "\n",
        "Hãy xác định sau bao nhiêu ngày thì có thể bắt đầu việc trồng mới cây.\n",
        "\n",
        "***Dữ liệu:*** Vào từ thiết bị nhập chuẩn gồm một dòng chứa 5 số nguyên a, k, b, m và n (1 ≤ a, b ≤ 109, 2 ≤ k, m ≤ 1018, 1 ≤ n ≤ 1018).\n",
        "\n",
        "***Kết quả:*** Đưa ra thiết bị xuất chuẩn một số nguyên – số ngày tính được.\n",
        "\n",
        "***Ví dụ:***\n",
        "<table style=\"border-collapse:collapse\" cellspacing=\"0\" cellpadding=\"5\" bordercolor=\"#ccc\" border=\"1\">\n",
        "\t<tbody>\n",
        "\t\t<tr>\n",
        "\t\t\t<td style=\"background-color:#ffffcc; width:108.0pt\">\n",
        "\t\t\t<p style=\"text-align:center\"><strong><tt>INPUT</tt></strong></p>\n",
        "\t\t\t</td>\n",
        "\t\t\t<td style=\"vertical-align:top; width:40.5pt\">\n",
        "\t\t\t<p style=\"text-align:center\">&nbsp;</p>\n",
        "\t\t\t</td>\n",
        "\t\t\t<td style=\"background-color:#ffffcc; width:121.5pt\">\n",
        "\t\t\t<p style=\"text-align:center\"><strong><tt>OUTPUT</tt></strong></p>\n",
        "\t\t\t</td>\n",
        "\t\t</tr>\n",
        "\t\t<tr>\n",
        "\t\t\t<td style=\"background-color:#ffffcc; height:16.6pt; width:108.0pt\">\n",
        "\t\t\t<p><tt><strong><span style=\"color:black\">2 4 3 3 25 </span></strong></tt></p>\n",
        "\t\t\t</td>\n",
        "\t\t\t<td style=\"height:16.6pt; vertical-align:top; width:40.5pt\">\n",
        "\t\t\t<p>&nbsp;</p>\n",
        "\t\t\t</td>\n",
        "\t\t\t<td style=\"background-color:#ffffcc; height:16.6pt; width:121.5pt\">\n",
        "\t\t\t<p><tt><strong>7</strong></tt></p>\n",
        "\t\t\t</td>\n",
        "\t\t</tr>\n",
        "\t</tbody>\n",
        "</table>"
      ]
    },
    {
      "cell_type": "markdown",
      "metadata": {
        "id": "NjPfTVvDeGfa"
      },
      "source": [
        "**1.Abstraction:**\n",
        "\n",
        "- x là số ngày chặt xong.\n",
        "\n",
        "- Đội I làm x ngày, nghỉ vào ngày k,2k,3k,... nên đội sẽ bị trễ x/k ngày.\n",
        "\n",
        "- Đội II làm x ngày, nghỉ vào ngày m,2m,3m,... nên đội sẽ bị trễ x/m ngày.\n",
        "\n",
        "- Vì muốn làm được ở thời gian thực thì ta phải trừ đi số ngày bị trễ\n",
        "\n",
        "    - =>Đội I : x-x/k\n",
        "\n",
        "    - =>Đội II: x-x/m\n",
        "\n",
        "- Công việc xong dựa vào cả 2 đội nên số cây chặt được sau x ngày có công thức : \n",
        "\n",
        "    result = a*(x-x/k) + b*(x-x/m). "
      ]
    },
    {
      "cell_type": "markdown",
      "metadata": {
        "id": "m4kXJh-4edBA"
      },
      "source": [
        "**2.Pattern recognization:**\n",
        "\n",
        "- Binary search ( tìm kiếm nhị phân)"
      ]
    },
    {
      "cell_type": "markdown",
      "metadata": {
        "id": "fwL90CKteg9l"
      },
      "source": [
        "**3.Algorithm designed:**\n",
        "\n",
        "*Input* : \n",
        "- a, k, b, m, n là số nguyên với\n",
        "    - 1 <= a, b <= 10^9.\n",
        "    - 2 <= k, m <= 10^18.\n",
        "    - 1 <= n <= 10^18.\n",
        "\n",
        "*Output :* số ngày tính được, số nguyên.\n",
        "\n",
        "*Mã giả:*\n",
        "```\n",
        "Nhập a,k,b,m,n\n",
        "Khởi tạo các giá trị low (thấp nhất) và high (cao nhất)\n",
        "low = 1\n",
        "high = n\n",
        "day = 0\n",
        "Lặp:\n",
        "1. while (low<=high)\n",
        "    mid = (low+high)/2\n",
        "    result = a(mid-mid/k) + b(mid-mid/m)\n",
        "2. if (result >= n)\n",
        "    high = mid - 1 \n",
        "    day = mid \n",
        "3. else low = mid + 1\n",
        "Print: \n",
        "    số ngày: day\n",
        "```\n",
        "- Độ phức tạp thuật toán là O(log(n))"
      ]
    },
    {
      "cell_type": "code",
      "metadata": {
        "id": "-pCVCUtYh3Q8",
        "outputId": "a7e67d10-c251-43bb-fdfc-83f93efcde80",
        "colab": {
          "base_uri": "https://localhost:8080/"
        }
      },
      "source": [
        "a,k,b,m,n = map(int,input().split())\n",
        "\n",
        "low = 1\n",
        "high = n\n",
        "day = 0\n",
        "while (low <= high):\n",
        "    mid = (low + high) // 2\n",
        "    result = mid*a - (mid//k)*a + mid*b - (mid//m)*b\n",
        "    if (result >= n):\n",
        "        high = mid - 1\n",
        "        day = mid\n",
        "    else:\n",
        "        low = mid + 1\n",
        "        \n",
        "print(day)"
      ],
      "execution_count": 1,
      "outputs": [
        {
          "output_type": "stream",
          "text": [
            "2 4 3 3 25\n",
            "7\n"
          ],
          "name": "stdout"
        }
      ]
    }
  ]
}