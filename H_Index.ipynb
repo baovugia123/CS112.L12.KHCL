{
 "cells": [
  {
   "cell_type": "raw",
   "metadata": {},
   "source": [
    "# 1. Abstraction: \n",
    "    - Tìm n sau khi duyệt hết mảng 1 chiều\n",
    "    \n",
    "# 2. Decomposition:\n",
    "    - Sắp xếp mảng\n",
    "    - So sánh n với từng phần tử của mảng\n",
    "    - In ra kết quả cần tìm\n",
    "    \n",
    "# 3. Pattern Recognition:\n",
    "    - Quy hoạch động\n",
    "\n",
    "# 4. Algorithm designed:\n",
    "    Input: n, các phần tử của mảng c[]\n",
    "    Output: H_Index\n",
    "  Mã giả:\n",
    "    Nhập n\n",
    "    If n>0\n",
    "       Khởi tạo mảng c[]\n",
    "       Nhập các phần tử mảng c[]\n",
    "       Sắp xếp mảng\n",
    "    Chạy vòng for i->n, i=0\n",
    "       If c[i]<n\n",
    "        n=n-1\n",
    "       If c[i]>=n\n",
    "        break\n",
    "    Xuất n \n",
    "    \n",
    "  Code:"
   ]
  },
  {
   "cell_type": "code",
   "execution_count": null,
   "metadata": {},
   "outputs": [],
   "source": [
    "n = int(input())\n",
    "if (n > 0):\n",
    "    c = []\n",
    "    c = list(map(int, input().split()))\n",
    "    c.sort()\n",
    "for i in range(0,n):\n",
    "    if(c[i] < n):\n",
    "        n = n - 1\n",
    "    if(c[i] >= n):\n",
    "        break          \n",
    "print(n)"
   ]
  }
 ],
 "metadata": {
  "kernelspec": {
   "display_name": "Python 3",
   "language": "python",
   "name": "python3"
  },
  "language_info": {
   "codemirror_mode": {
    "name": "ipython",
    "version": 3
   },
   "file_extension": ".py",
   "mimetype": "text/x-python",
   "name": "python",
   "nbconvert_exporter": "python",
   "pygments_lexer": "ipython3",
   "version": "3.7.1"
  }
 },
 "nbformat": 4,
 "nbformat_minor": 2
}
