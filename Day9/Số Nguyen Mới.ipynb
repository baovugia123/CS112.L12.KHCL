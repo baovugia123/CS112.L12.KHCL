{
  "nbformat": 4,
  "nbformat_minor": 0,
  "metadata": {
    "colab": {
      "name": "Untitled3.ipynb",
      "provenance": []
    },
    "kernelspec": {
      "name": "python3",
      "display_name": "Python 3"
    }
  },
  "cells": [
    {
      "cell_type": "markdown",
      "metadata": {
        "id": "AGwDSOAtQSSL"
      },
      "source": [
        "\n",
        "\n",
        "# **SỐ NGUYÊN MỚI**\n",
        "\n"
      ]
    },
    {
      "cell_type": "markdown",
      "metadata": {
        "id": "8bnJKUxaQwdR"
      },
      "source": [
        "Cho số nguyên dương n có không quá 100 chữ số. Hãy xác định số nguyên lớn nhất m chia hết cho 3 và khác n ở đúng một chữ số.\n",
        "\n",
        "Ví dụ: n = 123 thì m sẽ là 723.\n",
        "\n",
        "Dữ liệu: Vào từ thiết bị nhập chuẩn gồm một dòng chứa số nguyên n có không quá 100 chữ số và không chứa các số 0 không có nghĩa.\n",
        "\n",
        "Kết quả: Đưa ra thiết bị xuất chuẩn số nguyên m tìm được."
      ]
    },
    {
      "cell_type": "markdown",
      "metadata": {
        "id": "zQE-00EdQ-uT"
      },
      "source": [
        "# ** 1.Abstraction**"
      ]
    },
    {
      "cell_type": "markdown",
      "metadata": {
        "id": "6bx5kmQfROrX"
      },
      "source": [
        "Cho số nguyên n (0 ≤ n ≤ 10^100), tìm số nguyên lớn nhất m chia hết cho 3 và khác n ở đúng 1 chữ số.\n",
        "\n",
        "Ví dụ:\n",
        "\n",
        "Cho n = 321.\n",
        "\n",
        "Số nguyên m lớn nhất chia hết cho 3 và khác n ở 1 chữ số là m = 921.\n",
        "\n",
        "Cho n = 770.\n",
        "\n",
        "Số nguyên m lớn nhất chia hết cho 3 và khác n ở 1 chữ số là m = 870."
      ]
    },
    {
      "cell_type": "markdown",
      "metadata": {
        "id": "mz8cqxHORgCp"
      },
      "source": [
        "## **2.Pattern Recognization**\n",
        "\n"
      ]
    },
    {
      "cell_type": "markdown",
      "metadata": {
        "id": "1ozo9bvYR1jI"
      },
      "source": [
        "\n",
        "Vét cạn (Brute Force)."
      ]
    },
    {
      "cell_type": "markdown",
      "metadata": {
        "id": "Qz1NsF9hSAz_"
      },
      "source": [
        "# **3.Algorithm Designed**"
      ]
    },
    {
      "cell_type": "markdown",
      "metadata": {
        "id": "UntnXX5kSDPu"
      },
      "source": [
        "***Bước 1***: Thay các số từ 9 -> n[i] vào n[i]tương ứng với mỗi vòng lặp ta tính được tổng các chữ số, nếu tổng chia hết cho 3 thì ta sẽ xuất ra kết quả, ngược lại trả ký tự vừa thay về giá trị ban đầu và tiếp tục chạy vòng lặp.\n",
        "\n",
        "***Bước 2***: Lặp lại bước 1 với ký tự thứ i + 1.\n",
        "\n",
        "TH2: Nếu duyệt hết TH1 mà vẫn không tìm ra kết quả. Ta xét tiếp ký tự cuối cùng của n.\n",
        "\n",
        "Thay các số từ 9 -> 0 vào n[i] (i = len(n) -1).Bỏ qua vòng lặp hiện tại nếu giá trị thay vào bằng giá trị của n[i] (do đề bài yêu cầu m != n). Với mỗi vòng lặp ta tính tổng các chữ số, nếu tổng chia hết cho 3 thì xuất ra kết quả, ngược lại trả ký tự vừa thay về giá trị ban đầu và tiếp tục vòng lặp."
      ]
    },
    {
      "cell_type": "code",
      "metadata": {
        "colab": {
          "base_uri": "https://localhost:8080/"
        },
        "id": "rD5Eu4-1QOqs",
        "outputId": "5c566a6b-9d42-4a2f-f8d0-3e714d626fcb"
      },
      "source": [
        "x = input().strip()\n",
        "def BruteForce(x):\n",
        "    if len(x) == 1:\n",
        "        if int(x) == 9:\n",
        "            return '6'\n",
        "        return '9'\n",
        "    list= [int(i) for i in x]\n",
        "    for i in range(len(list) - 1):\n",
        "        for j in range(9, list[i], -1):\n",
        "            temp = list[i]\n",
        "            list[i] = j\n",
        "            test = sum(list)\n",
        "            if test % 3 == 0:\n",
        "                return ''.join(map(str, list))\n",
        "            else:\n",
        "                list[i] = temp\n",
        "\n",
        "    for i in range(9, 0, -1):\n",
        "        temp = list[len(list)-1]\n",
        "        if i == list[len(list) - 1]:\n",
        "            continue\n",
        "        list[len(list) - 1] = i\n",
        "        test = sum(list)\n",
        "        if test % 3 == 0:\n",
        "            return ''.join(map(str, list))\n",
        "        else:\n",
        "            list[len(list)-1] = temp\n",
        "\n",
        "\n",
        "print(BruteForce(x))"
      ],
      "execution_count": 1,
      "outputs": [
        {
          "output_type": "stream",
          "text": [
            "123\n",
            "723\n"
          ],
          "name": "stdout"
        }
      ]
    }
  ]
}