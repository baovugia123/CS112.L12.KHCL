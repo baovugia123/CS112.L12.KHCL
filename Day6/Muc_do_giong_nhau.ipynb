{
  "nbformat": 4,
  "nbformat_minor": 0,
  "metadata": {
    "colab": {
      "name": "Muc-do-giong-nhau.ipynb",
      "provenance": [],
      "authorship_tag": "ABX9TyMfmisN1xotghM7RDdoTMA4",
      "include_colab_link": true
    },
    "kernelspec": {
      "name": "python3",
      "display_name": "Python 3"
    }
  },
  "cells": [
    {
      "cell_type": "markdown",
      "metadata": {
        "id": "view-in-github",
        "colab_type": "text"
      },
      "source": [
        "<a href=\"https://colab.research.google.com/github/baovugia123/CS112.L12.KHCL/blob/master/Day6/Muc_do_giong_nhau.ipynb\" target=\"_parent\"><img src=\"https://colab.research.google.com/assets/colab-badge.svg\" alt=\"Open In Colab\"/></a>"
      ]
    },
    {
      "cell_type": "markdown",
      "metadata": {
        "id": "MXB5DOUWO5uZ"
      },
      "source": [
        "# **Đề bài:**\n",
        "\n",
        "**MỨC ĐỘ GIỐNG NHAU**\n",
        "\n",
        "Một quần thể sinh vật ngoài hành tinh có gene tạo thành từ 26 cơ sở ký hiệu từ A tới Z. Mỗi gene là một xâu ký tự các chữ cái la tinh hoa. Hai cá thể khác nhau có gene khác nhau. Mức độ giống nhau của 2 gene sẽ xác định độ huyết thống của chúng.\n",
        "\n",
        "Độ giống nhau của gene thứ nhất đối với gene thứ 2 là số lượng cặp 2 cơ sở liên tiếp nhau trong gene thứ nhất đồng thời là cặp 2 cơ sở liên tiếp nhau trong gene thứ hai.\n",
        "\n",
        "![download.png](data:image/png;base64,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)\n",
        " \n",
        "\n",
        "Ví dụ, gene thứ nhất là ABBACAB, gene thứ 2 là BCABB thì mức độ giống nhau là 4.\n",
        "\n",
        " \n",
        "\n",
        "Cho hai gene. Hãy xác định mức độ giống nhau của gene thứ nhất với gene thứ 2.\n",
        "\n",
        "***Dữ liệu:*** Vào từ thiết bị nhập chuẩn bao gồm 2 dòng chứa 2 xâu khác rỗng xác định gene thứ nhất và gene thứ 2, mỗi xâu chỉ chứa các ký tự chữ cái in hoa và có độ dài không quá 10^5.\n",
        "\n",
        "***Kết quả:*** Đưa ra thiết bị xuất chuẩn một số nguyên – mức độ giống nhau của 2 genes.\n",
        "\n",
        "***Ví dụ:***\n",
        "<table style=\"border-collapse:collapse\" cellspacing=\"0\" cellpadding=\"5\" bordercolor=\"#ccc\" border=\"2\">\n",
        "\t<tbody>\n",
        "\t\t<tr>\n",
        "\t\t\t<td style=\"background-color:#ffffcc; width:108.0pt\">\n",
        "\t\t\t<p style=\"text-align:center\"><strong><tt>INPUT</tt></strong></p>\n",
        "\t\t\t</td>\n",
        "\t\t\t<td style=\"vertical-align:top; width:40.5pt\">\n",
        "\t\t\t<p style=\"text-align:center\">&nbsp;</p>\n",
        "\t\t\t</td>\n",
        "\t\t\t<td style=\"background-color:#ffffcc; width:121.5pt\">\n",
        "\t\t\t<p style=\"text-align:center\"><strong><tt>OUTPUT</tt></strong></p>\n",
        "\t\t\t</td>\n",
        "\t\t</tr>\n",
        "\t\t<tr>\n",
        "\t\t\t<td style=\"background-color:#ffffcc; height:16.6pt; width:108.0pt\">\n",
        "\t\t\t<p><tt><strong><span style=\"color:black\"> ABBACAB </span></strong></tt></p>\n",
        "\t\t\t</td>\n",
        "        <tr>\n",
        "\t\t\t<td style=\"background-color:#ffffcc; height:16.6pt; width:108.0pt\">\n",
        "\t\t\t<p><tt><strong><span style=\"color:black\"> BCABB </span></strong></tt></p>\n",
        "\t\t\t</td>\n",
        "\t\t\t<td style=\"height:16.6pt; vertical-align:top; width:40.5pt\">\n",
        "\t\t\t<p>&nbsp;</p>\n",
        "\t\t\t</td>\n",
        "\t\t\t<td style=\"background-color:#ffffcc; height:16.6pt; width:121.5pt\">\n",
        "\t\t\t<p><tt><strong>4</strong></tt></p>\n",
        "\t\t\t</td>\n",
        "\t\t</tr>\n",
        "\t</tbody>\n",
        "</table>"
      ]
    },
    {
      "cell_type": "markdown",
      "metadata": {
        "id": "516CU1T1O6u3"
      },
      "source": [
        "**Abstraction:**\n",
        "- Tìm cặp ký tự gióng nhau liên tiếp giữa 2 dãy chữ cái in hoa cho trước."
      ]
    },
    {
      "cell_type": "markdown",
      "metadata": {
        "id": "KIgy_rF3QvfA"
      },
      "source": [
        "**Pattern recognization:**\n",
        "- Lập trình năng động"
      ]
    },
    {
      "cell_type": "markdown",
      "metadata": {
        "id": "RToBT08DQ102"
      },
      "source": [
        "**Algorithm designed:**\n",
        "* *Input:*\n",
        "    - Nhập vào 2 chuỗi kí tự in hoa gen1, gen2 (1 <= len(gen1), len(gen2) <= 10^5). \n",
        "* *Output:* số lượng cặp kí tự giống nhau giữa 2 chuỗi.\n",
        "* *Mã giả:*\n",
        "```\n",
        "    Nhập 2 chuỗi gene1, gene2\n",
        "\tset x\n",
        "\t1. for i in range(len(gene2)-1) then\n",
        "\t    y = gene2[i:i+2]\n",
        "\t    x.add(y)\n",
        "\tcount = 0\n",
        "\t2. for i in range(len(gene1)-1) then\n",
        "   \t    y = gene1[i:i+2]\n",
        "   \t    if y in x then\n",
        "     \t\tcount = count + 1\n",
        "\tprint count\n",
        "```"
      ]
    },
    {
      "cell_type": "code",
      "metadata": {
        "id": "lUNfAoPTR891",
        "outputId": "cef435b6-ab80-4661-a4c5-d9048f51627b",
        "colab": {
          "base_uri": "https://localhost:8080/",
          "height": 70
        }
      },
      "source": [
        "gene1 = input().strip()\n",
        "gene2 = input().strip()\n",
        "x = set()\n",
        "for i in range(len(gene2)-1):\n",
        "  y = gene2[i:i+2]\n",
        "  x.add(y)\n",
        "count = 0\n",
        "for i in range(len(gene1)-1):\n",
        "   y = gene1[i:i+2]\n",
        "   if (y in x):\n",
        "     count = count + 1\n",
        "print(count)"
      ],
      "execution_count": 1,
      "outputs": [
        {
          "output_type": "stream",
          "text": [
            "ABBACAB\n",
            "BCABB\n",
            "4\n"
          ],
          "name": "stdout"
        }
      ]
    }
  ]
}