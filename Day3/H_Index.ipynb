{
  "nbformat": 4,
  "nbformat_minor": 0,
  "metadata": {
    "colab": {
      "name": "H_Index.ipynb",
      "provenance": [],
      "authorship_tag": "ABX9TyMWVmqQjvkV05svFft9uuRE",
      "include_colab_link": true
    },
    "kernelspec": {
      "name": "python3",
      "display_name": "Python 3"
    }
  },
  "cells": [
    {
      "cell_type": "markdown",
      "metadata": {
        "id": "view-in-github",
        "colab_type": "text"
      },
      "source": [
        "<a href=\"https://colab.research.google.com/github/baovugia123/CS112.L12.KHCL/blob/master/Day3/H_Index.ipynb\" target=\"_parent\"><img src=\"https://colab.research.google.com/assets/colab-badge.svg\" alt=\"Open In Colab\"/></a>"
      ]
    },
    {
      "cell_type": "markdown",
      "metadata": {
        "id": "hfGlB7Q9rRCX"
      },
      "source": [
        "# **Đề bài:**\n",
        "\n",
        "**H_Index**\n",
        "\n",
        "Làm thế nào để đánh giá sự thành công của một nhà khoa học?  Dựa vào số bài báo được công bố hay dựa vào số lần một bài báo được trích dẫn tới ở công trình của những người khác? Cả hai tham số đó đều quan trọng.\n",
        "\n",
        "Một bài báo có điểm số trích dẫn là c nếu nó được trích dẫn tới c lần trong các công trình của những nhà khoa học khác. Một trong số các cách đánh giá sự thành công của một nhà khoa học là tính chỉ số ảnh hưởng H_Index dựa trên sự kết hợp giữa số lượng bài báo và chỉ số trích dẫn của các bài báo đó.\n",
        "\n",
        "Chỉ số H_Indexcủa một nhà khoa học bằng k lớn nhất nếu người đó có k bài báo, mỗi bài có điểm số trích dẫn không nhỏ hơn k. Ví dụ, một người có 10 bài báo, mỗi bài báo được trích dẫn không dưới 10 lần thì H_Index của người đó ít nhất là bằng 10.\n",
        "\n",
        "Một người có n bài báo, bài báo thứ i có điểm trích dẫn là ci, i = 1 ÷ n. Hãy xác định H_Index của người đó.\n",
        "\n",
        "***Dữ liệu:*** Vào từ thiết bị nhập chuẩn:\n",
        "\n",
        "* Dòng đầu tiên chứa một số nguyên n, (1 ≤ n ≤ 5×10^5),\n",
        "* Dòng thứ 2 chứa n số nguyên c[1], c[2],...,c[n] (0 ≤ ci ≤ 10^6, i = 1 ÷ n).\n",
        "\n",
        "***Kết quả:*** Đưa ra thiết bị xuất chuẩn một số nguyên – H_Index tìm được.\n",
        "\n",
        "***Ví dụ:***\n",
        "<table style=\"border-collapse:collapse\" cellspacing=\"0\" cellpadding=\"5\" bordercolor=\"#ccc\" border=\"2\">\n",
        "\t<tbody>\n",
        "\t\t<tr>\n",
        "\t\t\t<td style=\"background-color:#ffffcc; width:108.0pt\">\n",
        "\t\t\t<p style=\"text-align:center\"><strong><tt>INPUT</tt></strong></p>\n",
        "\t\t\t</td>\n",
        "\t\t\t<td style=\"vertical-align:top; width:40.5pt\">\n",
        "\t\t\t<p style=\"text-align:center\">&nbsp;</p>\n",
        "\t\t\t</td>\n",
        "\t\t\t<td style=\"background-color:#ffffcc; width:121.5pt\">\n",
        "\t\t\t<p style=\"text-align:center\"><strong><tt>OUTPUT</tt></strong></p>\n",
        "\t\t\t</td>\n",
        "\t\t</tr>\n",
        "\t\t<tr>\n",
        "\t\t\t<td style=\"background-color:#ffffcc; height:16.6pt; width:108.0pt\">\n",
        "\t\t\t<p><tt><strong><span style=\"color:black\"> 5 </span></strong></tt></p>\n",
        "\t\t\t</td>\n",
        "        <tr>\n",
        "\t\t\t<td style=\"background-color:#ffffcc; height:16.6pt; width:108.0pt\">\n",
        "\t\t\t<p><tt><strong><span style=\"color:black\"> 8 5 3 4 10 </span></strong></tt></p>\n",
        "\t\t\t</td>\n",
        "\t\t\t<td style=\"height:16.6pt; vertical-align:top; width:40.5pt\">\n",
        "\t\t\t<p>&nbsp;</p>\n",
        "\t\t\t</td>\n",
        "\t\t\t<td style=\"background-color:#ffffcc; height:16.6pt; width:121.5pt\">\n",
        "\t\t\t<p><tt><strong>4</strong></tt></p>\n",
        "\t\t\t</td>\n",
        "\t\t</tr>\n",
        "\t</tbody>\n",
        "</table>"
      ]
    },
    {
      "cell_type": "markdown",
      "metadata": {
        "id": "l1oJbpgVr_cJ"
      },
      "source": [
        "**Abstraction:**\n",
        "- Tìm n sau khi duyệt hết mảng 1 chiều"
      ]
    },
    {
      "cell_type": "markdown",
      "metadata": {
        "id": "mREQ0hQisJ3Y"
      },
      "source": [
        "**Decomposition:**\n",
        "- Sắp xếp mảng\n",
        "- So sánh n với từng phần tử của mảng\n",
        "- In ra kết quả cần tìm"
      ]
    },
    {
      "cell_type": "markdown",
      "metadata": {
        "id": "HQyLRLZVsOX4"
      },
      "source": [
        "**Pattern Recognition:**\n",
        "- Quy hoạch động"
      ]
    },
    {
      "cell_type": "markdown",
      "metadata": {
        "id": "1ADVg9evsTcy"
      },
      "source": [
        "**Algorithm designed:**\n",
        "* *Input:*\n",
        "* Dòng đầu tiên chứa một số nguyên n, (),\n",
        "* Dòng thứ 2 chứa n số nguyên \n",
        "    - n là số nguyên, 1 ≤ n ≤ 5×10^5. \n",
        "    - c là mảng gồm n phần tử, bắt đầu từ c[1], c[2],...,c[n], (0 ≤ ci ≤ 10^6, i = 1 ÷ n).\n",
        "* *Output:* số nguyên là chỉ số H_Index \n",
        "* *Mã giả: *\n",
        "```\n",
        "Nhập n\n",
        "If n>0\n",
        "    Khởi tạo mảng c[]\n",
        "    Nhập các phần tử mảng c[]\n",
        "    Sắp xếp mảng\n",
        "Chạy vòng for i->n, i=0\n",
        "    1. If c[i]<n\n",
        "        n=n-1\n",
        "    2. If c[i]>=n\n",
        "        break\n",
        "Xuất n \n",
        "```"
      ]
    },
    {
      "cell_type": "code",
      "metadata": {
        "id": "XrLaPrXmtatw",
        "outputId": "93f2c257-e53e-4e94-d44c-c86731282179",
        "colab": {
          "base_uri": "https://localhost:8080/",
          "height": 70
        }
      },
      "source": [
        "n = int(input())\n",
        "if (n > 0):\n",
        "    c = []\n",
        "    c = list(map(int, input().split()))\n",
        "    c.sort()\n",
        "for i in range(0,n):\n",
        "    if(c[i] < n):\n",
        "        n = n - 1\n",
        "    if(c[i] >= n):\n",
        "        break          \n",
        "print(n)"
      ],
      "execution_count": 1,
      "outputs": [
        {
          "output_type": "stream",
          "text": [
            "5\n",
            "8 5 3 4 10\n",
            "4\n"
          ],
          "name": "stdout"
        }
      ]
    }
  ]
}