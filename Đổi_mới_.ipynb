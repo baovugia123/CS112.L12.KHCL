{
  "nbformat": 4,
  "nbformat_minor": 0,
  "metadata": {
    "colab": {
      "name": "Đổi mới .ipynb",
      "provenance": [],
      "collapsed_sections": []
    },
    "kernelspec": {
      "name": "python3",
      "display_name": "Python 3"
    }
  },
  "cells": [
    {
      "cell_type": "markdown",
      "metadata": {
        "id": "5oJqOVr0UW1d"
      },
      "source": [
        "\n",
        "**1.Abstraction:**\n",
        "\n",
        "\tx là số ngày chặt xong\n",
        "\tĐội I làm x ngày, nghỉ vào ngày k,2k,3k,... nên đội sẽ bị trễ x/k ngày.\n",
        "\tĐội II làm x ngày, nghỉ vào ngày m,2m,3m,... nên đội sẽ bị trễ x/m ngày.\n",
        "\tVì muốn làm được ở thời gian thực thì ta phải trừ đi số ngày bị trễ\n",
        "\t=>Đội I : x-x/k\n",
        "\t=>Đội II: x-x/m\n",
        "\tCông việc xong dựa vào cả 2 đội nên số cây chặt được sau x ngày có công thức :\n",
        "\t\tresult = a*(x-x/k) + b*(x-x/m)\n",
        "\n",
        "**2.Pattern recognization:**\n",
        "\n",
        "\tBinary search ( tìm kiếm nhị phân)\n",
        "\n",
        "**3.Algorithm designed:**\n",
        "\n",
        "\tInput : a,k,b,m,n\n",
        "\tOutput : số ngày tính được\n",
        "**Mã giả:**\n",
        "\n",
        "Nhập a,k,b,m,n\n",
        "\n",
        "low = 1\n",
        "\n",
        "high = n\n",
        "\n",
        "day = 0\n",
        "\n",
        "  while (low<=high)\n",
        "\n",
        "mid = (low+high)/2\n",
        "\n",
        "result = a*(mid-mid/k) + b*(mid-mid/m)\n",
        "\n",
        "if (result >= n)\n",
        "\n",
        "   high = mid - 1\n",
        "        \tday = mid\n",
        "    \telse\n",
        "        \tlow = mid + 1 \n",
        "\n",
        "-Độ phức tạp thuật toán là O(log(n))\t\n"
      ]
    },
    {
      "cell_type": "code",
      "metadata": {
        "id": "k-N0KnlvTvja",
        "outputId": "01da9509-6b6e-4527-c50b-4e34b9caef51",
        "colab": {
          "base_uri": "https://localhost:8080/"
        }
      },
      "source": [
        "a,k,b,m,n = map(int,input().split())\n",
        "\n",
        "low = 1\n",
        "high = n\n",
        "day = 0\n",
        "while (low <= high):\n",
        "    mid = (low + high) // 2\n",
        "    result = mid*a - (mid//k)*a + mid*b - (mid//m)*b\n",
        "    if (result >= n):\n",
        "        high = mid - 1\n",
        "        day = mid\n",
        "    else:\n",
        "        low = mid + 1\n",
        "        \n",
        "print(day)"
      ],
      "execution_count": 1,
      "outputs": [
        {
          "output_type": "stream",
          "text": [
            "2 4 3 3 25\n",
            "7\n"
          ],
          "name": "stdout"
        }
      ]
    }
  ]
}