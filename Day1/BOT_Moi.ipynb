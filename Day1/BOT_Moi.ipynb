{
  "nbformat": 4,
  "nbformat_minor": 0,
  "metadata": {
    "colab": {
      "name": "BOT Moi.ipynb",
      "provenance": []
    },
    "kernelspec": {
      "name": "python3",
      "display_name": "Python 3"
    }
  },
  "cells": [
    {
      "cell_type": "markdown",
      "metadata": {
        "id": "vgeLfEqxNktj"
      },
      "source": [
        "# **Đề bài:**\n",
        "\n",
        "**BOT**\n",
        "\n",
        "BOT (Built-Operation-Transfer, có nghĩa: Xây dựng-Vận hành-Chuyển giao) là hình thức Chính phủ kêu gọi các công ty bỏ vốn xây dựng trước (Built) thông qua đấu thầu, sau đó khai thác vận hành một thời gian (Operation) và sau cùng là chuyển giao (Transfer) lại cho nhà nước sở tại.\n",
        "\n",
        "Đường cao tốc xuyên quốc gia được xây dựng theo hình thức BOT. Công ty Đa quốc gia Modern Highway trúng thầu, chia toàn bộ con đường thành n đoạn. Theo tính toán của Công ty sau khi chuyển giao con đường cho chính phủ sở tại quản lý thì lãi thu được ở đoạn đường thứ i là ai, ai có thể dương, âm hoặc bằng 0, tức là với từng đoạn con có thể lãi, lỗ hoặc hòa vốn. Từng nhóm các đoạn đường liên tiếp nhau (gọi tắt là khoảng) được chia cho các công ty con thực hiện. Công ty con ASEAM Highway hiện đang có trụ sở ở nước sở tại được quyền chọn trước khoảng tùy ý (có thể là cả con đường).\n",
        "\n",
        "Dĩ nhiên Ban Giám đốc ASEAM Highway muốn chọn khoảng bắt đầu từ đoạn p đến hết đoạn q mang lại lợi nhuận cao nhất hoặc lỗ ít nhất nếu không có khoảng nào cho lãi.\n",
        "\n",
        "Hãy chỉ ra khoảng cần chọn và lãi thu được. Nếu có nhiều cách chọn thì chỉ ra cách chọn có p nhỏ nhất.\n",
        "\n",
        "***Dữ liệu:*** Vào từ thiết bị nhập chuẩn:\n",
        "*  Dòng đầu tiên chứa số nguyên n (1 ≤ n ≤ 106),\n",
        "*  Dòng thứ 2 chứa n số nguyên a1, a2, . . ., an (0 ≤ |ai| ≤ 109, i = 1 ÷ n).\n",
        "\n",
        "***Kết quả:*** Đưa ra thiết bị xuất chuẩn trên một dòng 2 số nguyên p, q và lãi thu được.\n",
        "\n",
        "***Ví dụ:***\n",
        "\n",
        "\n",
        "<table style=\"border-collapse:collapse\" cellspacing=\"0\" cellpadding=\"5\" bordercolor=\"#ccc\" border=\"2\">\n",
        "\t<tbody>\n",
        "\t\t<tr>\n",
        "\t\t\t<td style=\"background-color:#ffffcc; width:108.0pt\">\n",
        "\t\t\t<p style=\"text-align:center\"><strong><tt>INPUT</tt></strong></p>\n",
        "\t\t\t</td>\n",
        "\t\t\t<td style=\"vertical-align:top; width:40.5pt\">\n",
        "\t\t\t<p style=\"text-align:center\">&nbsp;</p>\n",
        "\t\t\t</td>\n",
        "\t\t\t<td style=\"background-color:#ffffcc; width:121.5pt\">\n",
        "\t\t\t<p style=\"text-align:center\"><strong><tt>OUTPUT</tt></strong></p>\n",
        "\t\t\t</td>\n",
        "\t\t</tr>\n",
        "\t\t<tr>\n",
        "\t\t\t<td style=\"background-color:#ffffcc; height:16.6pt; width:108.0pt\">\n",
        "\t\t\t<p><tt><strong><span style=\"color:black\"> 16 </span></strong></tt></p>\n",
        "\t\t\t</td>\n",
        "        <tr>\n",
        "\t\t\t<td style=\"background-color:#ffffcc; height:16.6pt; width:108.0pt\">\n",
        "\t\t\t<p><tt><strong><span style=\"color:black\"> 2 -4 5 -8 4 -1 -1 1 1 1 -2 2 4 -6 9 -4 </span></strong></tt></p>\n",
        "\t\t\t</td>\n",
        "\t\t\t<td style=\"height:16.6pt; vertical-align:top; width:40.5pt\">\n",
        "\t\t\t<p>&nbsp;</p>\n",
        "\t\t\t</td>\n",
        "\t\t\t<td style=\"background-color:#ffffcc; height:16.6pt; width:121.5pt\">\n",
        "\t\t\t<p><tt><strong>5 15 12</strong></tt></p>\n",
        "\t\t\t</td>\n",
        "\t\t</tr>\n",
        "\t</tbody>\n",
        "</table>\n",
        "\n",
        "\n",
        " \n",
        "\n",
        "\n"
      ]
    },
    {
      "cell_type": "markdown",
      "metadata": {
        "id": "9dtdAuYSRfLr"
      },
      "source": [
        "**Abstraction:**\n",
        "- Tìm các dãy con liên tiếp trong dãy n phần tử.\n"
      ]
    },
    {
      "cell_type": "markdown",
      "metadata": {
        "id": "GArVr9VkR21q"
      },
      "source": [
        "**Pattern Recognition:**\n",
        "- Quy hoạch động.\n"
      ]
    },
    {
      "cell_type": "markdown",
      "metadata": {
        "id": "19Lv6-COR6GU"
      },
      "source": [
        "**Algorithm designed:**\n",
        "* *Input:*\n",
        "    - n là số nguyên, 1 <= n <= 10^6. \n",
        "    - a là mảng gồm n phần tử, bắt đầu từ a[0], a[1],...,a[n]. \n",
        "    - i là số nguyên, 0 <= |a[i]| <= 10^9, i = 1 / n. \n",
        "* *Output:* chỉ số đầu của mảng con, chỉ số cuối của mảng con, tổng các phần tử mảng con \n",
        "* *Mã giả: *\n",
        "```\n",
        "tạo hàm “maxsubarray”\n",
        "  begin = end =0\n",
        "  currStart = 0\n",
        "  currEnd = 0\n",
        "  temp = 0\n",
        "Lặp i từ 0 đến i - 1\n",
        "  1. currEnd = currEnd + a[i]\n",
        "  2. if (currEnd > currStart)\n",
        "         2.1 currStart = currEnd\n",
        "         2.2 end = i\n",
        "         2.3 begin = temp\n",
        "  3. if(currEnd < 0)\n",
        "        3.1 currEnd = 0\n",
        "        3.2 temp = i + 1\n",
        "    Print:\n",
        "        Chỉ số bắt đầu của mảng con: begin + 1\n",
        "        Chỉ số kết thúc của mảng con: end + 1\n",
        "        Tổng các phần tử trong mảng con: currStart\n",
        "``` \n",
        "*Độ phức tạp thời gian: T = O(n)"
      ]
    },
    {
      "cell_type": "code",
      "metadata": {
        "id": "NMuQ5CJPSozd",
        "outputId": "4703bb7d-2c22-4abe-db72-daf7e8f3a70b",
        "colab": {
          "base_uri": "https://localhost:8080/"
        }
      },
      "source": [
        "def maxSubArray(arr, size):\n",
        "    currEnd = arr[0]\n",
        "    currStart = float('-inf')\n",
        "    start = end = 0 \n",
        "    temp = 0\n",
        "\n",
        "    for i in range(1,size):\n",
        "        currEnd += arr[i]\n",
        "        \n",
        "        if currEnd > currStart:\n",
        "            currStart = currEnd\n",
        "            end = i\n",
        "            start = temp\n",
        "        \n",
        "        elif currEnd < 0:\n",
        "            currEnd = 0\n",
        "            temp = i + 1\n",
        "    \n",
        "    print(start + 1, end + 1, currStart)\n",
        "\n",
        "n = int(input())\n",
        "arr = list(map(int, input().split()))\n",
        "maxSubArray(arr,len(arr))\n",
        "\n",
        "# numbers = [2,-4,5,-8,4,-1,-1,1,1,1,-2,2,4,-6,9,-4]"
      ],
      "execution_count": null,
      "outputs": [
        {
          "output_type": "stream",
          "text": [
            "16\n",
            "2 -4 5 -8 4 -1 -1 1 1 1 -2 2 4 -6 9 -4\n",
            "5 15 12\n"
          ],
          "name": "stdout"
        }
      ]
    }
  ]
}